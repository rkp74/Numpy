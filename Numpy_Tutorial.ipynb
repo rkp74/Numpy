{
  "nbformat": 4,
  "nbformat_minor": 0,
  "metadata": {
    "colab": {
      "provenance": [],
      "authorship_tag": "ABX9TyNMybBInj5aPfjbeUjAxSpO",
      "include_colab_link": true
    },
    "kernelspec": {
      "name": "python3",
      "display_name": "Python 3"
    },
    "language_info": {
      "name": "python"
    }
  },
  "cells": [
    {
      "cell_type": "markdown",
      "metadata": {
        "id": "view-in-github",
        "colab_type": "text"
      },
      "source": [
        "<a href=\"https://colab.research.google.com/github/rkp74/Numpy/blob/main/Numpy_Tutorial.ipynb\" target=\"_parent\"><img src=\"https://colab.research.google.com/assets/colab-badge.svg\" alt=\"Open In Colab\"/></a>"
      ]
    },
    {
      "cell_type": "markdown",
      "source": [
        "\n",
        "# Basic\n",
        "\n"
      ],
      "metadata": {
        "id": "08IJsEC2hMka"
      }
    },
    {
      "cell_type": "code",
      "execution_count": 1,
      "metadata": {
        "id": "RwrHV3e6lB21"
      },
      "outputs": [],
      "source": [
        "import numpy as np"
      ]
    },
    {
      "cell_type": "code",
      "source": [
        "x = np.array([1,2,3,4])\n",
        "print(x)\n",
        "print(type(x))\n",
        "print(x.ndim)"
      ],
      "metadata": {
        "colab": {
          "base_uri": "https://localhost:8080/"
        },
        "id": "Jgk3iZyEmeNp",
        "outputId": "363a888a-68f9-41e5-a3e4-f08e62db9519"
      },
      "execution_count": 2,
      "outputs": [
        {
          "output_type": "stream",
          "name": "stdout",
          "text": [
            "[1 2 3 4]\n",
            "<class 'numpy.ndarray'>\n",
            "1\n"
          ]
        }
      ]
    },
    {
      "cell_type": "code",
      "source": [
        "y = [1,2,3,4]\n",
        "print(y)\n",
        "print(type(y))"
      ],
      "metadata": {
        "colab": {
          "base_uri": "https://localhost:8080/"
        },
        "id": "AhRRiTzGmpmA",
        "outputId": "020b0ed5-7ca2-42dd-ff86-464c43909ec7"
      },
      "execution_count": 3,
      "outputs": [
        {
          "output_type": "stream",
          "name": "stdout",
          "text": [
            "[1, 2, 3, 4]\n",
            "<class 'list'>\n"
          ]
        }
      ]
    },
    {
      "cell_type": "code",
      "source": [
        "# single line %timeit\n",
        "# whole code %%timeit"
      ],
      "metadata": {
        "id": "T6JikZgBm2XD"
      },
      "execution_count": 4,
      "outputs": []
    },
    {
      "cell_type": "code",
      "source": [
        "%timeit [j**4 for j in range(1,9)]"
      ],
      "metadata": {
        "colab": {
          "base_uri": "https://localhost:8080/"
        },
        "id": "N2SgJSkDpVvy",
        "outputId": "7e4e0fbc-1b03-4073-ec76-ce8c7ba3e9bf"
      },
      "execution_count": 5,
      "outputs": [
        {
          "output_type": "stream",
          "name": "stdout",
          "text": [
            "2.76 µs ± 471 ns per loop (mean ± std. dev. of 7 runs, 100000 loops each)\n"
          ]
        }
      ]
    },
    {
      "cell_type": "code",
      "source": [
        "%timeit  np.array([j**4 for j in range(1,9)])"
      ],
      "metadata": {
        "colab": {
          "base_uri": "https://localhost:8080/"
        },
        "id": "flkvNxUXpexR",
        "outputId": "adbd9235-3313-4788-df0a-4552d2534008"
      },
      "execution_count": 6,
      "outputs": [
        {
          "output_type": "stream",
          "name": "stdout",
          "text": [
            "3.73 µs ± 113 ns per loop (mean ± std. dev. of 7 runs, 100000 loops each)\n"
          ]
        }
      ]
    },
    {
      "cell_type": "code",
      "source": [
        "%timeit np.arange(1,9)**4"
      ],
      "metadata": {
        "colab": {
          "base_uri": "https://localhost:8080/"
        },
        "id": "-llxZKRJp-i3",
        "outputId": "0cf77057-5681-4d6c-f82f-71f62257770c"
      },
      "execution_count": 7,
      "outputs": [
        {
          "output_type": "stream",
          "name": "stdout",
          "text": [
            "2.3 µs ± 60.7 ns per loop (mean ± std. dev. of 7 runs, 100000 loops each)\n"
          ]
        }
      ]
    },
    {
      "cell_type": "code",
      "source": [
        "#1l = []\n",
        "#for i in range(1,5):\n",
        "  #int_1 = int(input(\"Enter :\"))\n",
        "  #l.append(int_1)\n",
        "\n",
        "#print(np.array(l))"
      ],
      "metadata": {
        "id": "Tmd7yostqBuK"
      },
      "execution_count": 8,
      "outputs": []
    },
    {
      "cell_type": "code",
      "source": [
        "ar2 = np.array([[1,2,3,4] , [5,6,7]])\n",
        "print(ar2)\n",
        "print(ar2.ndim)\n",
        "ar2\n"
      ],
      "metadata": {
        "colab": {
          "base_uri": "https://localhost:8080/"
        },
        "id": "esFaaeSUM9Q9",
        "outputId": "4dbf4c69-b12a-4aba-d081-45513e977070"
      },
      "execution_count": 9,
      "outputs": [
        {
          "output_type": "stream",
          "name": "stdout",
          "text": [
            "[list([1, 2, 3, 4]) list([5, 6, 7])]\n",
            "1\n"
          ]
        },
        {
          "output_type": "stream",
          "name": "stderr",
          "text": [
            "<ipython-input-9-2686dc72cf7c>:1: VisibleDeprecationWarning: Creating an ndarray from ragged nested sequences (which is a list-or-tuple of lists-or-tuples-or ndarrays with different lengths or shapes) is deprecated. If you meant to do this, you must specify 'dtype=object' when creating the ndarray.\n",
            "  ar2 = np.array([[1,2,3,4] , [5,6,7]])\n"
          ]
        },
        {
          "output_type": "execute_result",
          "data": {
            "text/plain": [
              "array([list([1, 2, 3, 4]), list([5, 6, 7])], dtype=object)"
            ]
          },
          "metadata": {},
          "execution_count": 9
        }
      ]
    },
    {
      "cell_type": "code",
      "source": [
        "ar3 = np.array([[[1,2,3,4,5]]])\n",
        "print(ar3)\n",
        "print(ar3.ndim)"
      ],
      "metadata": {
        "colab": {
          "base_uri": "https://localhost:8080/"
        },
        "id": "vZc7FzuGNvPS",
        "outputId": "835909d0-c4d5-4188-fa21-d2e46739818d"
      },
      "execution_count": 10,
      "outputs": [
        {
          "output_type": "stream",
          "name": "stdout",
          "text": [
            "[[[1 2 3 4 5]]]\n",
            "3\n"
          ]
        }
      ]
    },
    {
      "cell_type": "code",
      "source": [
        "arn = np.array([1,2,3,4] , ndmin = 10)\n",
        "print(arn)\n",
        "print(arn.ndim)"
      ],
      "metadata": {
        "colab": {
          "base_uri": "https://localhost:8080/"
        },
        "id": "9VHfNEabOGdk",
        "outputId": "66307731-6155-4b8b-995a-05e37811e199"
      },
      "execution_count": 11,
      "outputs": [
        {
          "output_type": "stream",
          "name": "stdout",
          "text": [
            "[[[[[[[[[[1 2 3 4]]]]]]]]]]\n",
            "10\n"
          ]
        }
      ]
    },
    {
      "cell_type": "markdown",
      "source": [
        "Zero array"
      ],
      "metadata": {
        "id": "LaGLAPIUPQRz"
      }
    },
    {
      "cell_type": "code",
      "source": [
        "ar_zero = np.zeros(4)\n",
        "print(ar_zero)"
      ],
      "metadata": {
        "colab": {
          "base_uri": "https://localhost:8080/"
        },
        "id": "YCtmoZrGOk4t",
        "outputId": "6752d471-d969-4496-e7bf-cabf84f531df"
      },
      "execution_count": 12,
      "outputs": [
        {
          "output_type": "stream",
          "name": "stdout",
          "text": [
            "[0. 0. 0. 0.]\n"
          ]
        }
      ]
    },
    {
      "cell_type": "code",
      "source": [
        "ar_zero1 = np.zeros((3,4))\n",
        "print(ar_zero1)"
      ],
      "metadata": {
        "colab": {
          "base_uri": "https://localhost:8080/"
        },
        "id": "4BZQoh6tPa07",
        "outputId": "795c5cc2-a825-413c-d3bc-ce104d430123"
      },
      "execution_count": 13,
      "outputs": [
        {
          "output_type": "stream",
          "name": "stdout",
          "text": [
            "[[0. 0. 0. 0.]\n",
            " [0. 0. 0. 0.]\n",
            " [0. 0. 0. 0.]]\n"
          ]
        }
      ]
    },
    {
      "cell_type": "markdown",
      "source": [
        "one array"
      ],
      "metadata": {
        "id": "qnZLPbLzQL03"
      }
    },
    {
      "cell_type": "code",
      "source": [
        "ar_one = np.ones(5)\n",
        "print(ar_one)"
      ],
      "metadata": {
        "colab": {
          "base_uri": "https://localhost:8080/"
        },
        "id": "ByjH66DYPlxh",
        "outputId": "ca4e21d9-66c0-42a2-f497-4564b7bf7c01"
      },
      "execution_count": 14,
      "outputs": [
        {
          "output_type": "stream",
          "name": "stdout",
          "text": [
            "[1. 1. 1. 1. 1.]\n"
          ]
        }
      ]
    },
    {
      "cell_type": "code",
      "source": [
        "ar_one2 = np.ones((3,3))\n",
        "print(ar_one2)"
      ],
      "metadata": {
        "colab": {
          "base_uri": "https://localhost:8080/"
        },
        "id": "1YNBL4mNPvae",
        "outputId": "9094f0f3-7b8d-4c0b-e734-833034e9ff8a"
      },
      "execution_count": 15,
      "outputs": [
        {
          "output_type": "stream",
          "name": "stdout",
          "text": [
            "[[1. 1. 1.]\n",
            " [1. 1. 1.]\n",
            " [1. 1. 1.]]\n"
          ]
        }
      ]
    },
    {
      "cell_type": "markdown",
      "source": [
        "empty array"
      ],
      "metadata": {
        "id": "0IjFzhCMQNod"
      }
    },
    {
      "cell_type": "code",
      "source": [
        "ar_empty = np.empty(4)\n",
        "print(ar_empty)"
      ],
      "metadata": {
        "colab": {
          "base_uri": "https://localhost:8080/"
        },
        "id": "r2BYi6OAP2mo",
        "outputId": "2c821c3a-1af1-4bd6-961c-7be9ef1fed11"
      },
      "execution_count": 16,
      "outputs": [
        {
          "output_type": "stream",
          "name": "stdout",
          "text": [
            "[0. 0. 0. 0.]\n"
          ]
        }
      ]
    },
    {
      "cell_type": "code",
      "source": [
        "ar_empty2 = np.empty((3,2))\n",
        "print(ar_empty2)"
      ],
      "metadata": {
        "colab": {
          "base_uri": "https://localhost:8080/"
        },
        "id": "ypkrhdWAQY2v",
        "outputId": "d24dfbf2-67a6-4014-fad0-a844a2578b32"
      },
      "execution_count": 17,
      "outputs": [
        {
          "output_type": "stream",
          "name": "stdout",
          "text": [
            "[[4.68116127e-310 0.00000000e+000]\n",
            " [6.83000218e-310 6.83000218e-310]\n",
            " [6.83000490e-310 6.83001162e-310]]\n"
          ]
        }
      ]
    },
    {
      "cell_type": "markdown",
      "source": [
        "range array"
      ],
      "metadata": {
        "id": "GUgavA1TRHrS"
      }
    },
    {
      "cell_type": "code",
      "source": [
        "ar_rn = np.arange(4)\n",
        "print(ar_rn)"
      ],
      "metadata": {
        "colab": {
          "base_uri": "https://localhost:8080/"
        },
        "id": "m1pbj7AvRUaR",
        "outputId": "7c2f4daa-c3fa-4898-bf5a-e0d2522a15ff"
      },
      "execution_count": 18,
      "outputs": [
        {
          "output_type": "stream",
          "name": "stdout",
          "text": [
            "[0 1 2 3]\n"
          ]
        }
      ]
    },
    {
      "cell_type": "code",
      "source": [
        "ar_rn2 = np.arange(4,8)\n",
        "print(ar_rn2)"
      ],
      "metadata": {
        "colab": {
          "base_uri": "https://localhost:8080/"
        },
        "id": "h3lYUMzbRHMr",
        "outputId": "d673ae4e-d566-4e60-a71a-9666504c4fa2"
      },
      "execution_count": 19,
      "outputs": [
        {
          "output_type": "stream",
          "name": "stdout",
          "text": [
            "[4 5 6 7]\n"
          ]
        }
      ]
    },
    {
      "cell_type": "markdown",
      "source": [
        "diognal elements filled\n"
      ],
      "metadata": {
        "id": "5p09f0BVRaUB"
      }
    },
    {
      "cell_type": "code",
      "source": [
        "ar_dig = np.eye(3)\n",
        "print(ar_dig)"
      ],
      "metadata": {
        "colab": {
          "base_uri": "https://localhost:8080/"
        },
        "id": "3OVf8CJHQrfg",
        "outputId": "01df308b-1814-4d54-bfbd-efc8009dc510"
      },
      "execution_count": 20,
      "outputs": [
        {
          "output_type": "stream",
          "name": "stdout",
          "text": [
            "[[1. 0. 0.]\n",
            " [0. 1. 0.]\n",
            " [0. 0. 1.]]\n"
          ]
        }
      ]
    },
    {
      "cell_type": "code",
      "source": [
        "ar_dig2 = np.eye(3,5)\n",
        "print(ar_dig2)"
      ],
      "metadata": {
        "colab": {
          "base_uri": "https://localhost:8080/"
        },
        "id": "6_MdZTrFRnOb",
        "outputId": "d5951f78-6f2a-47dc-8362-a00073e4c4e8"
      },
      "execution_count": 21,
      "outputs": [
        {
          "output_type": "stream",
          "name": "stdout",
          "text": [
            "[[1. 0. 0. 0. 0.]\n",
            " [0. 1. 0. 0. 0.]\n",
            " [0. 0. 1. 0. 0.]]\n"
          ]
        }
      ]
    },
    {
      "cell_type": "markdown",
      "source": [
        "linearly spaced array"
      ],
      "metadata": {
        "id": "uGF1VWx_SQDI"
      }
    },
    {
      "cell_type": "code",
      "source": [
        "ar_lin = np.linspace(0,10,num=5)\n",
        "print(ar_lin)"
      ],
      "metadata": {
        "colab": {
          "base_uri": "https://localhost:8080/"
        },
        "id": "c5_88DRBSDfk",
        "outputId": "f7956b7e-ccf5-4ee6-f43a-0dc3790e7bd4"
      },
      "execution_count": 22,
      "outputs": [
        {
          "output_type": "stream",
          "name": "stdout",
          "text": [
            "[ 0.   2.5  5.   7.5 10. ]\n"
          ]
        }
      ]
    },
    {
      "cell_type": "markdown",
      "source": [
        "rand()"
      ],
      "metadata": {
        "id": "dyzTmkPRTlua"
      }
    },
    {
      "cell_type": "code",
      "source": [
        "var = np.random.rand(4)\n",
        "print(var)"
      ],
      "metadata": {
        "colab": {
          "base_uri": "https://localhost:8080/"
        },
        "id": "LydyGyc3ScKV",
        "outputId": "53dcb1ee-fd8d-4a8d-dc16-582aa3b99b92"
      },
      "execution_count": 23,
      "outputs": [
        {
          "output_type": "stream",
          "name": "stdout",
          "text": [
            "[0.46265564 0.85457209 0.81794331 0.15419202]\n"
          ]
        }
      ]
    },
    {
      "cell_type": "code",
      "source": [
        "var1 = np.random.rand(2,5)\n",
        "print(var1)"
      ],
      "metadata": {
        "colab": {
          "base_uri": "https://localhost:8080/"
        },
        "id": "NMNQOBiNTxvp",
        "outputId": "8e899cc0-c732-4fdc-cc41-e57b8c5cb491"
      },
      "execution_count": 24,
      "outputs": [
        {
          "output_type": "stream",
          "name": "stdout",
          "text": [
            "[[0.90854242 0.0030352  0.50489833 0.67849507 0.67953252]\n",
            " [0.58837876 0.38186784 0.87659048 0.32222533 0.52775217]]\n"
          ]
        }
      ]
    },
    {
      "cell_type": "markdown",
      "source": [
        "randn()"
      ],
      "metadata": {
        "id": "gSRqWzplUKft"
      }
    },
    {
      "cell_type": "code",
      "source": [
        "var2 = np.random.randn(4)\n",
        "print(var2)"
      ],
      "metadata": {
        "colab": {
          "base_uri": "https://localhost:8080/"
        },
        "id": "tg_hP-8eUG2I",
        "outputId": "74a2d734-d190-4782-917f-33fa380be6a3"
      },
      "execution_count": 25,
      "outputs": [
        {
          "output_type": "stream",
          "name": "stdout",
          "text": [
            "[ 0.09836404 -0.01048149  0.10990497  0.2520909 ]\n"
          ]
        }
      ]
    },
    {
      "cell_type": "code",
      "source": [
        "var3 = np.random.randn(2,5)\n",
        "print(var3)"
      ],
      "metadata": {
        "colab": {
          "base_uri": "https://localhost:8080/"
        },
        "id": "FNUiBjKGUMcx",
        "outputId": "d3a781ad-c8dc-46b6-9b77-8c939e3771d5"
      },
      "execution_count": 26,
      "outputs": [
        {
          "output_type": "stream",
          "name": "stdout",
          "text": [
            "[[-0.6707093   0.73001817  1.99553434  0.11954896 -0.44104635]\n",
            " [-0.35480145  0.73532746  0.17363245 -2.08726406  0.1917528 ]]\n"
          ]
        }
      ]
    },
    {
      "cell_type": "markdown",
      "source": [
        "randf()"
      ],
      "metadata": {
        "id": "rPTu88h5UmA-"
      }
    },
    {
      "cell_type": "code",
      "source": [
        "var4 = np.random.ranf(4)\n",
        "print(var4)"
      ],
      "metadata": {
        "colab": {
          "base_uri": "https://localhost:8080/"
        },
        "id": "W4HBB6tiUSc2",
        "outputId": "37907154-3297-4423-e67b-b02f5b04add3"
      },
      "execution_count": 27,
      "outputs": [
        {
          "output_type": "stream",
          "name": "stdout",
          "text": [
            "[0.06074736 0.77126235 0.09659858 0.41468225]\n"
          ]
        }
      ]
    },
    {
      "cell_type": "code",
      "source": [
        "var5 = np.random.ranf(size = (3,5))\n",
        "print(var5)"
      ],
      "metadata": {
        "colab": {
          "base_uri": "https://localhost:8080/"
        },
        "id": "cSWsxBrYUuPf",
        "outputId": "f7128950-6d90-4751-fa2e-d54f11bd0ad4"
      },
      "execution_count": 28,
      "outputs": [
        {
          "output_type": "stream",
          "name": "stdout",
          "text": [
            "[[0.48842383 0.61429574 0.93016725 0.46959254 0.56475156]\n",
            " [0.57689104 0.49421145 0.51629676 0.2406738  0.49296278]\n",
            " [0.13087188 0.31370433 0.62697565 0.68067315 0.41139183]]\n"
          ]
        }
      ]
    },
    {
      "cell_type": "markdown",
      "source": [
        "randint()"
      ],
      "metadata": {
        "id": "6cNCYOkSZRPq"
      }
    },
    {
      "cell_type": "code",
      "source": [
        " # var6 = np.random.randint(min,max,total)\n",
        " var6 = np.random.randint(5,9,20)\n",
        " print(var6)"
      ],
      "metadata": {
        "colab": {
          "base_uri": "https://localhost:8080/"
        },
        "id": "tAH8fk1tU8uL",
        "outputId": "7837674e-d0de-4e5a-a564-2abefef22d41"
      },
      "execution_count": 29,
      "outputs": [
        {
          "output_type": "stream",
          "name": "stdout",
          "text": [
            "[8 6 7 5 8 7 8 6 8 8 5 8 6 6 6 5 6 6 7 5]\n"
          ]
        }
      ]
    },
    {
      "cell_type": "code",
      "source": [
        " var7 = np.random.randint(5,9,size=(3,5))\n",
        " print(var7)"
      ],
      "metadata": {
        "colab": {
          "base_uri": "https://localhost:8080/"
        },
        "id": "pXP3S3l3ZeRe",
        "outputId": "12170f74-3058-4779-e9b7-2628809c5949"
      },
      "execution_count": 30,
      "outputs": [
        {
          "output_type": "stream",
          "name": "stdout",
          "text": [
            "[[6 6 6 5 7]\n",
            " [6 7 7 7 7]\n",
            " [5 8 6 5 7]]\n"
          ]
        }
      ]
    },
    {
      "cell_type": "markdown",
      "source": [
        "# Data Type"
      ],
      "metadata": {
        "id": "Qo04NJ3HhJU8"
      }
    },
    {
      "cell_type": "code",
      "source": [
        "import numpy as np"
      ],
      "metadata": {
        "id": "yn-BEov_UjU1"
      },
      "execution_count": 31,
      "outputs": []
    },
    {
      "cell_type": "code",
      "source": [
        "var = np.array([1,2,3,4,12,14,15])\n",
        "\n",
        "print(\"Data type : \" , var.dtype)"
      ],
      "metadata": {
        "colab": {
          "base_uri": "https://localhost:8080/"
        },
        "id": "nw5lPUO9aCHH",
        "outputId": "6919553b-c5fe-45ef-9f9d-43845ba76d69"
      },
      "execution_count": 32,
      "outputs": [
        {
          "output_type": "stream",
          "name": "stdout",
          "text": [
            "Data type :  int64\n"
          ]
        }
      ]
    },
    {
      "cell_type": "code",
      "source": [
        "var2 = np.array([1.0,2.0,3.0])\n",
        "print(\"Data type : \" , var2.dtype)"
      ],
      "metadata": {
        "colab": {
          "base_uri": "https://localhost:8080/"
        },
        "id": "v67xJiQhhnBs",
        "outputId": "e679154e-7748-40c6-9d43-01a582b4a5df"
      },
      "execution_count": 33,
      "outputs": [
        {
          "output_type": "stream",
          "name": "stdout",
          "text": [
            "Data type :  float64\n"
          ]
        }
      ]
    },
    {
      "cell_type": "code",
      "source": [
        "var3 = np.array([\"Rajan\" , \"Diya\" , \"Kajal\"])\n",
        "print(\"Data type : \" , var3.dtype)"
      ],
      "metadata": {
        "colab": {
          "base_uri": "https://localhost:8080/"
        },
        "id": "UWDXvYtwh5Qa",
        "outputId": "341d2f8f-5aed-4106-cf74-dbb5b8ba551a"
      },
      "execution_count": 34,
      "outputs": [
        {
          "output_type": "stream",
          "name": "stdout",
          "text": [
            "Data type :  <U5\n"
          ]
        }
      ]
    },
    {
      "cell_type": "code",
      "source": [
        "var4 = np.array([True , False])\n",
        "print(\"Data Type : \", var4.dtype)"
      ],
      "metadata": {
        "colab": {
          "base_uri": "https://localhost:8080/"
        },
        "id": "XSiI7XYliBFe",
        "outputId": "70f67625-5e91-44f3-9e54-7ba70acc10b7"
      },
      "execution_count": 35,
      "outputs": [
        {
          "output_type": "stream",
          "name": "stdout",
          "text": [
            "Data Type :  bool\n"
          ]
        }
      ]
    },
    {
      "cell_type": "code",
      "source": [
        "var4= np.array([\"Rajan\" , \"Diya\" , \"Kajal\" ,  1 , 2 ,3 ])\n",
        "print(\"Data type : \" , var4.dtype)"
      ],
      "metadata": {
        "colab": {
          "base_uri": "https://localhost:8080/"
        },
        "id": "1w1qCKuoiQF_",
        "outputId": "86745ceb-0a04-45ed-fcb4-39f11fd75e7b"
      },
      "execution_count": 36,
      "outputs": [
        {
          "output_type": "stream",
          "name": "stdout",
          "text": [
            "Data type :  <U21\n"
          ]
        }
      ]
    },
    {
      "cell_type": "code",
      "source": [
        "var5 = np.array([\"Rajan\" , \"Diya\" , \"Kajal\" ,  1 , 2 ,3 , 2.6 , 3.8])\n",
        "print(\"Data type : \" , var5.dtype)"
      ],
      "metadata": {
        "colab": {
          "base_uri": "https://localhost:8080/"
        },
        "id": "bm7vyrZlij2q",
        "outputId": "d72e3812-ed7a-4e48-e9f1-20d4110cd737"
      },
      "execution_count": 37,
      "outputs": [
        {
          "output_type": "stream",
          "name": "stdout",
          "text": [
            "Data type :  <U32\n"
          ]
        }
      ]
    },
    {
      "cell_type": "code",
      "source": [
        "var6 = np.array([\"Rajan\" , \"Diya\" , \"Kajal\" ,  1 , 2 ,3 , 2.6 , 3.8 , True])\n",
        "print(\"Data type : \" , var6.dtype)"
      ],
      "metadata": {
        "colab": {
          "base_uri": "https://localhost:8080/"
        },
        "id": "-Qm6s1njim6i",
        "outputId": "605171a1-5370-4d8b-a0f1-042a24b582ca"
      },
      "execution_count": 38,
      "outputs": [
        {
          "output_type": "stream",
          "name": "stdout",
          "text": [
            "Data type :  <U32\n"
          ]
        }
      ]
    },
    {
      "cell_type": "code",
      "source": [
        "x = np.array([1,2,3,4])\n",
        "print(x.dtype)"
      ],
      "metadata": {
        "colab": {
          "base_uri": "https://localhost:8080/"
        },
        "id": "rv7r1Iy6irFK",
        "outputId": "3fefd6b6-442d-4f4e-f56e-270eb52bee41"
      },
      "execution_count": 39,
      "outputs": [
        {
          "output_type": "stream",
          "name": "stdout",
          "text": [
            "int64\n"
          ]
        }
      ]
    },
    {
      "cell_type": "code",
      "source": [
        "y = np.array([1,2,3,4,4883] , dtype = np.int8)\n",
        "print(y.dtype)\n",
        "print(y)"
      ],
      "metadata": {
        "colab": {
          "base_uri": "https://localhost:8080/"
        },
        "id": "KErPhScAjj06",
        "outputId": "7a424858-10a2-47b1-f07a-b7c17e4c5dea"
      },
      "execution_count": 129,
      "outputs": [
        {
          "output_type": "stream",
          "name": "stdout",
          "text": [
            "int8\n",
            "[ 1  2  3  4 19]\n"
          ]
        }
      ]
    },
    {
      "cell_type": "code",
      "source": [
        "z = np.array([1,2,3,4] , dtype = \"f\")\n",
        "print(z.dtype)\n",
        "print(z)"
      ],
      "metadata": {
        "colab": {
          "base_uri": "https://localhost:8080/"
        },
        "id": "SDm52e2DjxW-",
        "outputId": "a39b80be-0d4c-42c1-d81e-a3e1e0aee862"
      },
      "execution_count": 41,
      "outputs": [
        {
          "output_type": "stream",
          "name": "stdout",
          "text": [
            "float32\n",
            "[1. 2. 3. 4.]\n"
          ]
        }
      ]
    },
    {
      "cell_type": "code",
      "source": [
        "z1 = np.array([1,2,3,4])\n",
        "new = np.float32(z1)\n",
        "print(z1.dtype)\n",
        "print(new.dtype)\n",
        "print(z1)\n",
        "print(new)"
      ],
      "metadata": {
        "colab": {
          "base_uri": "https://localhost:8080/"
        },
        "id": "YFP6xhcDkPlI",
        "outputId": "2bf5f444-f31d-4f24-8c6e-139eefc0031b"
      },
      "execution_count": 42,
      "outputs": [
        {
          "output_type": "stream",
          "name": "stdout",
          "text": [
            "int64\n",
            "float32\n",
            "[1 2 3 4]\n",
            "[1. 2. 3. 4.]\n"
          ]
        }
      ]
    },
    {
      "cell_type": "code",
      "source": [
        "z1 = np.array([1,2,3,4])\n",
        "new = np.float32(z1)\n",
        "new1 = np.int_(new)\n",
        "print(z1.dtype)\n",
        "print(new.dtype)\n",
        "print(new1.dtype)\n",
        "print(z1)\n",
        "print(new)\n",
        "print(new1)"
      ],
      "metadata": {
        "colab": {
          "base_uri": "https://localhost:8080/"
        },
        "id": "2d_9grBptv1D",
        "outputId": "a96b06cf-8472-4dbe-b9bf-7afcfc566851"
      },
      "execution_count": 43,
      "outputs": [
        {
          "output_type": "stream",
          "name": "stdout",
          "text": [
            "int64\n",
            "float32\n",
            "int64\n",
            "[1 2 3 4]\n",
            "[1. 2. 3. 4.]\n",
            "[1 2 3 4]\n"
          ]
        }
      ]
    },
    {
      "cell_type": "code",
      "source": [
        "t = np.array([1,2,3,4])\n",
        "t1 = t.astype(float)\n",
        "print(t)\n",
        "print(t1)"
      ],
      "metadata": {
        "colab": {
          "base_uri": "https://localhost:8080/"
        },
        "id": "7G_0Pty0uBEi",
        "outputId": "195d3bfd-6df8-4738-cc23-0bcfeb5fba3e"
      },
      "execution_count": 44,
      "outputs": [
        {
          "output_type": "stream",
          "name": "stdout",
          "text": [
            "[1 2 3 4]\n",
            "[1. 2. 3. 4.]\n"
          ]
        }
      ]
    },
    {
      "cell_type": "markdown",
      "source": [
        "# Arithmetic Operation"
      ],
      "metadata": {
        "id": "daTuFJBpkOsf"
      }
    },
    {
      "cell_type": "code",
      "source": [
        "import numpy as np"
      ],
      "metadata": {
        "id": "7mXCl4pwUmgL"
      },
      "execution_count": 45,
      "outputs": []
    },
    {
      "cell_type": "code",
      "source": [
        "x = np.array([1,2,3,4])\n",
        "xadd = x +3\n",
        "print(xadd)"
      ],
      "metadata": {
        "colab": {
          "base_uri": "https://localhost:8080/"
        },
        "id": "qYQMGeECkR7_",
        "outputId": "361878d1-df62-43a9-bfab-467ab97386d3"
      },
      "execution_count": 46,
      "outputs": [
        {
          "output_type": "stream",
          "name": "stdout",
          "text": [
            "[4 5 6 7]\n"
          ]
        }
      ]
    },
    {
      "cell_type": "code",
      "source": [
        "a = np.array([1,2,3,4])\n",
        "b = np.array([1,5,3,8])\n",
        "\n",
        "c = a + b\n",
        "print(c)"
      ],
      "metadata": {
        "colab": {
          "base_uri": "https://localhost:8080/"
        },
        "id": "oPo1xhb1kwx3",
        "outputId": "9e53f9ee-b0c4-4f16-c458-a6023ece6cd7"
      },
      "execution_count": 47,
      "outputs": [
        {
          "output_type": "stream",
          "name": "stdout",
          "text": [
            "[ 2  7  6 12]\n"
          ]
        }
      ]
    },
    {
      "cell_type": "code",
      "source": [
        "d = np.array([1,2,3,4])\n",
        "e = np.array([1,5,8])\n",
        "\n",
        "# f = d + e\n",
        "# print(c)\n",
        "\n",
        "\n",
        "#ValueError: operands could not be broadcast together with shapes (4,) (3,)"
      ],
      "metadata": {
        "id": "pFGxwsu9nOWP"
      },
      "execution_count": 48,
      "outputs": []
    },
    {
      "cell_type": "code",
      "source": [
        "a = np.array([1,2,3,4])\n",
        "b = np.array([1,5,3,8])\n",
        "\n",
        "c = np.add(a,4)\n",
        "print(c)"
      ],
      "metadata": {
        "colab": {
          "base_uri": "https://localhost:8080/"
        },
        "id": "9UeQEgCGl53h",
        "outputId": "65b5aa76-ba9c-4f59-8f44-387ca8811d4f"
      },
      "execution_count": 49,
      "outputs": [
        {
          "output_type": "stream",
          "name": "stdout",
          "text": [
            "[5 6 7 8]\n"
          ]
        }
      ]
    },
    {
      "cell_type": "code",
      "source": [
        "a = np.array([1,2,3,4])\n",
        "b = np.array([1,5,3,8])\n",
        "\n",
        "c = np.add(a,b)\n",
        "print(c)"
      ],
      "metadata": {
        "colab": {
          "base_uri": "https://localhost:8080/"
        },
        "id": "UCKq4Zq_lpga",
        "outputId": "b3e98dc2-49a4-4ec9-9fcf-c735d2142d83"
      },
      "execution_count": 50,
      "outputs": [
        {
          "output_type": "stream",
          "name": "stdout",
          "text": [
            "[ 2  7  6 12]\n"
          ]
        }
      ]
    },
    {
      "cell_type": "code",
      "source": [
        "x = np.array([1,2,3,4])\n",
        "xsub = x -3\n",
        "print(xsub)"
      ],
      "metadata": {
        "colab": {
          "base_uri": "https://localhost:8080/"
        },
        "id": "CyB-_M-5k7sW",
        "outputId": "f7a37abd-351a-406f-d77d-3497bd56e8e2"
      },
      "execution_count": 51,
      "outputs": [
        {
          "output_type": "stream",
          "name": "stdout",
          "text": [
            "[-2 -1  0  1]\n"
          ]
        }
      ]
    },
    {
      "cell_type": "code",
      "source": [
        "x = np.array([1,2,3,4])\n",
        "xmul = x*3\n",
        "print(xmul)"
      ],
      "metadata": {
        "colab": {
          "base_uri": "https://localhost:8080/"
        },
        "id": "6G5pqMH0lCPo",
        "outputId": "4ba15fa0-d5ef-41cf-b5fc-6a18acdc119c"
      },
      "execution_count": 52,
      "outputs": [
        {
          "output_type": "stream",
          "name": "stdout",
          "text": [
            "[ 3  6  9 12]\n"
          ]
        }
      ]
    },
    {
      "cell_type": "code",
      "source": [
        "x = np.array([1,2,3,4])\n",
        "xdiv = x / 3\n",
        "print(xdiv)"
      ],
      "metadata": {
        "colab": {
          "base_uri": "https://localhost:8080/"
        },
        "id": "FnlqUUhDlFSf",
        "outputId": "39d7f694-a220-4464-86b0-43c6b6f9c484"
      },
      "execution_count": 53,
      "outputs": [
        {
          "output_type": "stream",
          "name": "stdout",
          "text": [
            "[0.33333333 0.66666667 1.         1.33333333]\n"
          ]
        }
      ]
    },
    {
      "cell_type": "code",
      "source": [
        "x = np.array([1,2,3,4])\n",
        "xmod = x % 3\n",
        "print(xmod)"
      ],
      "metadata": {
        "colab": {
          "base_uri": "https://localhost:8080/"
        },
        "id": "ZqWSbZ21lJXS",
        "outputId": "e41fa9f5-978f-4567-f7a8-c93ebd4dba50"
      },
      "execution_count": 54,
      "outputs": [
        {
          "output_type": "stream",
          "name": "stdout",
          "text": [
            "[1 2 0 1]\n"
          ]
        }
      ]
    },
    {
      "cell_type": "code",
      "source": [
        "x = np.array([1,2,3,4])\n",
        "xpow = x ** 3\n",
        "print(xpow)"
      ],
      "metadata": {
        "colab": {
          "base_uri": "https://localhost:8080/"
        },
        "id": "TT1aTxsUlL2J",
        "outputId": "223aac2a-88d5-4b72-99a8-a5082ae2052c"
      },
      "execution_count": 55,
      "outputs": [
        {
          "output_type": "stream",
          "name": "stdout",
          "text": [
            "[ 1  8 27 64]\n"
          ]
        }
      ]
    },
    {
      "cell_type": "code",
      "source": [
        "x = np.array([0,1,2,3,4])\n",
        "xrec = 1/x\n",
        "print(xrec)"
      ],
      "metadata": {
        "colab": {
          "base_uri": "https://localhost:8080/"
        },
        "id": "s5AsBRX_lNYJ",
        "outputId": "1c8d4591-f00d-437a-dcb4-b0100dbc0eb2"
      },
      "execution_count": 56,
      "outputs": [
        {
          "output_type": "stream",
          "name": "stdout",
          "text": [
            "[       inf 1.         0.5        0.33333333 0.25      ]\n"
          ]
        },
        {
          "output_type": "stream",
          "name": "stderr",
          "text": [
            "<ipython-input-56-878c04595f03>:2: RuntimeWarning: divide by zero encountered in divide\n",
            "  xrec = 1/x\n"
          ]
        }
      ]
    },
    {
      "cell_type": "markdown",
      "source": [
        "2D Array"
      ],
      "metadata": {
        "id": "BxQOp9FOmdTP"
      }
    },
    {
      "cell_type": "code",
      "source": [
        "var21 = np.array([[1,2,3,4]  ,  [5,6,7,8]])\n",
        "var22 = np.array([[1,3,5,7] , [2,4,6,8]])\n",
        "\n",
        "var2122 = var21 % var22\n",
        "print(var2122)"
      ],
      "metadata": {
        "colab": {
          "base_uri": "https://localhost:8080/"
        },
        "id": "tXvpHY0KlQs8",
        "outputId": "e822eb6d-1dcb-4b2c-d555-96e8e427f1e4"
      },
      "execution_count": 57,
      "outputs": [
        {
          "output_type": "stream",
          "name": "stdout",
          "text": [
            "[[0 2 3 4]\n",
            " [1 2 1 0]]\n"
          ]
        }
      ]
    },
    {
      "cell_type": "code",
      "source": [
        "var8 = np.array([1,1,8,4,5,6,7,8])\n",
        "print(np.min(var8))\n",
        "print(np.max(var8))\n",
        "print(np.argmin(var8)) # Position of minimum\n",
        "print(np.argmax(var8)) # Position of maximum\n",
        "print(np.sqrt(var8))\n",
        "print(np.sin(var8))\n",
        "print(np.cos(var8))\n",
        "print(np.cumsum(var8))"
      ],
      "metadata": {
        "colab": {
          "base_uri": "https://localhost:8080/"
        },
        "id": "9roZtEkNmxm7",
        "outputId": "97b19680-25ce-4be3-f1f5-3d0b4b8a1eff"
      },
      "execution_count": 58,
      "outputs": [
        {
          "output_type": "stream",
          "name": "stdout",
          "text": [
            "1\n",
            "8\n",
            "0\n",
            "2\n",
            "[1.         1.         2.82842712 2.         2.23606798 2.44948974\n",
            " 2.64575131 2.82842712]\n",
            "[ 0.84147098  0.84147098  0.98935825 -0.7568025  -0.95892427 -0.2794155\n",
            "  0.6569866   0.98935825]\n",
            "[ 0.54030231  0.54030231 -0.14550003 -0.65364362  0.28366219  0.96017029\n",
            "  0.75390225 -0.14550003]\n",
            "[ 1  2 10 14 19 25 32 40]\n"
          ]
        }
      ]
    },
    {
      "cell_type": "code",
      "source": [
        "var8 = np.array([[1,1,8,4] , [4,6,7,8]])\n",
        "print(np.min(var8 , axis = 0))\n",
        "print(np.min(var8 , axis = 1))\n",
        "print(np.max(var8, axis = 0))\n",
        "print(np.argmin(var8 , axis = 1)) # Position of minimum\n",
        "print(np.argmax(var8,axis = 1)) # Position of maximum\n",
        "print(np.sqrt(var8))\n",
        "print(np.sin(var8))\n",
        "print(np.cos(var8))\n",
        "print(np.cumsum(var8))\n",
        "print(np.cumsum(var8, axis = 0))\n",
        "print(np.cumsum(var8, axis = 1))\n"
      ],
      "metadata": {
        "colab": {
          "base_uri": "https://localhost:8080/"
        },
        "id": "fjE_loQBomvl",
        "outputId": "1258f150-248b-4107-b372-a6d779f2c187"
      },
      "execution_count": 59,
      "outputs": [
        {
          "output_type": "stream",
          "name": "stdout",
          "text": [
            "[1 1 7 4]\n",
            "[1 4]\n",
            "[4 6 8 8]\n",
            "[0 0]\n",
            "[2 3]\n",
            "[[1.         1.         2.82842712 2.        ]\n",
            " [2.         2.44948974 2.64575131 2.82842712]]\n",
            "[[ 0.84147098  0.84147098  0.98935825 -0.7568025 ]\n",
            " [-0.7568025  -0.2794155   0.6569866   0.98935825]]\n",
            "[[ 0.54030231  0.54030231 -0.14550003 -0.65364362]\n",
            " [-0.65364362  0.96017029  0.75390225 -0.14550003]]\n",
            "[ 1  2 10 14 18 24 31 39]\n",
            "[[ 1  1  8  4]\n",
            " [ 5  7 15 12]]\n",
            "[[ 1  2 10 14]\n",
            " [ 4 10 17 25]]\n"
          ]
        }
      ]
    },
    {
      "cell_type": "markdown",
      "source": [
        "# shape and Reshape"
      ],
      "metadata": {
        "id": "BZBfpzIqwQDr"
      }
    },
    {
      "cell_type": "markdown",
      "source": [
        "Shape"
      ],
      "metadata": {
        "id": "q8MP1bDUx3Vx"
      }
    },
    {
      "cell_type": "code",
      "source": [
        "import numpy as np"
      ],
      "metadata": {
        "id": "VPQSTmozUpFr"
      },
      "execution_count": 60,
      "outputs": []
    },
    {
      "cell_type": "code",
      "source": [
        "var10 = np.array([1,2,3,4])\n",
        "print(var10.shape)"
      ],
      "metadata": {
        "colab": {
          "base_uri": "https://localhost:8080/"
        },
        "id": "T0RmOD7Upt-i",
        "outputId": "c6bc0fb5-67cf-4585-9fde-ce7eade90202"
      },
      "execution_count": 61,
      "outputs": [
        {
          "output_type": "stream",
          "name": "stdout",
          "text": [
            "(4,)\n"
          ]
        }
      ]
    },
    {
      "cell_type": "code",
      "source": [
        "var11 = np.array([[1,2,3,4], [5,6,7]])\n",
        "print(var11.shape)"
      ],
      "metadata": {
        "colab": {
          "base_uri": "https://localhost:8080/"
        },
        "id": "e7W19P6vwrdY",
        "outputId": "25c14a3d-cf12-46a3-a18e-cf174ed62f5d"
      },
      "execution_count": 62,
      "outputs": [
        {
          "output_type": "stream",
          "name": "stdout",
          "text": [
            "(2,)\n"
          ]
        },
        {
          "output_type": "stream",
          "name": "stderr",
          "text": [
            "<ipython-input-62-24d6b97e10b3>:1: VisibleDeprecationWarning: Creating an ndarray from ragged nested sequences (which is a list-or-tuple of lists-or-tuples-or ndarrays with different lengths or shapes) is deprecated. If you meant to do this, you must specify 'dtype=object' when creating the ndarray.\n",
            "  var11 = np.array([[1,2,3,4], [5,6,7]])\n"
          ]
        }
      ]
    },
    {
      "cell_type": "code",
      "source": [
        "var12 = np.array([[1,2,3,4], [5,6,7,8]])\n",
        "print(var12.shape)"
      ],
      "metadata": {
        "colab": {
          "base_uri": "https://localhost:8080/"
        },
        "id": "vq0RperLwvwr",
        "outputId": "56059d02-4987-4895-8a10-357df0c5749e"
      },
      "execution_count": 63,
      "outputs": [
        {
          "output_type": "stream",
          "name": "stdout",
          "text": [
            "(2, 4)\n"
          ]
        }
      ]
    },
    {
      "cell_type": "code",
      "source": [
        "var13 = np.array([[[1,2],[3,4], [5,6]]])\n",
        "print(var13.shape)"
      ],
      "metadata": {
        "colab": {
          "base_uri": "https://localhost:8080/"
        },
        "id": "_hQESjUWw1Zb",
        "outputId": "d8bddfc9-d0c6-439d-d45c-574217b93897"
      },
      "execution_count": 64,
      "outputs": [
        {
          "output_type": "stream",
          "name": "stdout",
          "text": [
            "(1, 3, 2)\n"
          ]
        }
      ]
    },
    {
      "cell_type": "code",
      "source": [
        "var14 = np.array([1,2,3,4] , ndmin = 4)\n",
        "\n",
        "print(var14)\n",
        "print(var14.ndim)\n",
        "print(var14.shape)"
      ],
      "metadata": {
        "colab": {
          "base_uri": "https://localhost:8080/"
        },
        "id": "8lca8TDvw7sG",
        "outputId": "aa3e93ea-57ab-44e5-89cb-cc6d9d43c549"
      },
      "execution_count": 65,
      "outputs": [
        {
          "output_type": "stream",
          "name": "stdout",
          "text": [
            "[[[[1 2 3 4]]]]\n",
            "4\n",
            "(1, 1, 1, 4)\n"
          ]
        }
      ]
    },
    {
      "cell_type": "markdown",
      "source": [
        "Reshape"
      ],
      "metadata": {
        "id": "ID6rhPdFx1s2"
      }
    },
    {
      "cell_type": "code",
      "source": [
        "var15 = np.array([1,2,3,4,5,6,7,8,9,10,11,12])\n",
        "print(var15.shape)\n",
        "var16 = var15.reshape(2,3,2)\n",
        "print(var16)\n",
        "print(var16.shape)\n",
        "var16\n",
        "\n"
      ],
      "metadata": {
        "colab": {
          "base_uri": "https://localhost:8080/"
        },
        "id": "KgYeuKvhxrDw",
        "outputId": "0581b4d9-e58d-4fc9-fac2-123d98f10259"
      },
      "execution_count": 66,
      "outputs": [
        {
          "output_type": "stream",
          "name": "stdout",
          "text": [
            "(12,)\n",
            "[[[ 1  2]\n",
            "  [ 3  4]\n",
            "  [ 5  6]]\n",
            "\n",
            " [[ 7  8]\n",
            "  [ 9 10]\n",
            "  [11 12]]]\n",
            "(2, 3, 2)\n"
          ]
        },
        {
          "output_type": "execute_result",
          "data": {
            "text/plain": [
              "array([[[ 1,  2],\n",
              "        [ 3,  4],\n",
              "        [ 5,  6]],\n",
              "\n",
              "       [[ 7,  8],\n",
              "        [ 9, 10],\n",
              "        [11, 12]]])"
            ]
          },
          "metadata": {},
          "execution_count": 66
        }
      ]
    },
    {
      "cell_type": "code",
      "source": [
        "# 3D to 1D array\n",
        "var17 = np.array([[[ 1,  2],[ 3,  4],[ 5,  6]],[[ 7,  8], [ 9, 10],[11, 12]]])\n",
        "var18 = var17.reshape(-1)\n",
        "\n",
        "print(var18)"
      ],
      "metadata": {
        "colab": {
          "base_uri": "https://localhost:8080/"
        },
        "id": "TQ3oS5gUyBt6",
        "outputId": "12eba064-c2ba-48e5-b9ea-36458a297862"
      },
      "execution_count": 67,
      "outputs": [
        {
          "output_type": "stream",
          "name": "stdout",
          "text": [
            "[ 1  2  3  4  5  6  7  8  9 10 11 12]\n"
          ]
        }
      ]
    },
    {
      "cell_type": "code",
      "source": [
        "# 3D to 1D array\n",
        "var19 = np.array([[[ 1,  2],[ 3,  4],[ 5,  6]],[[ 7,  8], [ 9, 10],[11, 12]]])\n",
        "var20 = var19.reshape(-1, var19.shape[-1])\n",
        "\n",
        "print(var20)\n",
        "print(var20.ndim)"
      ],
      "metadata": {
        "colab": {
          "base_uri": "https://localhost:8080/"
        },
        "id": "VudzVBaBz0yS",
        "outputId": "30d9a0ac-ecb0-464c-b59a-e92ba6b80ec6"
      },
      "execution_count": 68,
      "outputs": [
        {
          "output_type": "stream",
          "name": "stdout",
          "text": [
            "[[ 1  2]\n",
            " [ 3  4]\n",
            " [ 5  6]\n",
            " [ 7  8]\n",
            " [ 9 10]\n",
            " [11 12]]\n",
            "2\n"
          ]
        }
      ]
    },
    {
      "cell_type": "markdown",
      "source": [
        "# BroadCasting Arrays"
      ],
      "metadata": {
        "id": "zqOY6tkl2PZA"
      }
    },
    {
      "cell_type": "code",
      "source": [
        "import numpy as np"
      ],
      "metadata": {
        "id": "Tya9wP9oUsCV"
      },
      "execution_count": 69,
      "outputs": []
    },
    {
      "cell_type": "code",
      "source": [
        "var21 = np.array([1,2,3,4])\n",
        "var22 = np.array([2,4,6])\n",
        "\n",
        "# print(var21 + var22)\n",
        "# ValueError: operands could not be broadcast together with shapes (4,) (3,)"
      ],
      "metadata": {
        "id": "ycaV7tZC1BIC"
      },
      "execution_count": 70,
      "outputs": []
    },
    {
      "cell_type": "code",
      "source": [
        "var23 = np.array([[1,2,3]])\n",
        "print(var23.shape)\n",
        "print(var23)"
      ],
      "metadata": {
        "colab": {
          "base_uri": "https://localhost:8080/"
        },
        "id": "zQiJMs_N2ib0",
        "outputId": "cc18cc23-17d7-40fc-9c04-3a53a666aacb"
      },
      "execution_count": 71,
      "outputs": [
        {
          "output_type": "stream",
          "name": "stdout",
          "text": [
            "(1, 3)\n",
            "[[1 2 3]]\n"
          ]
        }
      ]
    },
    {
      "cell_type": "code",
      "source": [
        "var24 = np.array([[1] , [2] , [3] ])\n",
        "print(var24.shape)\n",
        "print(var24)"
      ],
      "metadata": {
        "colab": {
          "base_uri": "https://localhost:8080/"
        },
        "id": "MHja2jeT3i75",
        "outputId": "3d5bd927-ac7a-402e-b2db-8de1ce30d667"
      },
      "execution_count": 72,
      "outputs": [
        {
          "output_type": "stream",
          "name": "stdout",
          "text": [
            "(3, 1)\n",
            "[[1]\n",
            " [2]\n",
            " [3]]\n"
          ]
        }
      ]
    },
    {
      "cell_type": "code",
      "source": [
        "print(var23 + var24)"
      ],
      "metadata": {
        "colab": {
          "base_uri": "https://localhost:8080/"
        },
        "id": "NRqIzTdD3siV",
        "outputId": "d40a44e6-3435-4068-9831-0c0331e3c826"
      },
      "execution_count": 73,
      "outputs": [
        {
          "output_type": "stream",
          "name": "stdout",
          "text": [
            "[[2 3 4]\n",
            " [3 4 5]\n",
            " [4 5 6]]\n"
          ]
        }
      ]
    },
    {
      "cell_type": "code",
      "source": [
        "var25 = np.array([[1] , [2]])\n",
        "print(var25.shape)\n",
        "var26 = np.array([[3,4,5] , [6,7,8]])\n",
        "\n",
        "print(var25 + var26)\n"
      ],
      "metadata": {
        "colab": {
          "base_uri": "https://localhost:8080/"
        },
        "id": "Gqenn7Of37wv",
        "outputId": "a39461f5-1f97-48e8-9a69-83d99639eb47"
      },
      "execution_count": 74,
      "outputs": [
        {
          "output_type": "stream",
          "name": "stdout",
          "text": [
            "(2, 1)\n",
            "[[ 4  5  6]\n",
            " [ 8  9 10]]\n"
          ]
        }
      ]
    },
    {
      "cell_type": "code",
      "source": [
        " var27 = np.array([[1] , [2] , [3] ])\n",
        " var28 = np.array([1,2,3,4,5])\n",
        " print(var27 + var28)"
      ],
      "metadata": {
        "colab": {
          "base_uri": "https://localhost:8080/"
        },
        "id": "rVXX0LO35NG-",
        "outputId": "cc56ea8e-118e-410c-832a-b63c5f75735d"
      },
      "execution_count": 75,
      "outputs": [
        {
          "output_type": "stream",
          "name": "stdout",
          "text": [
            "[[2 3 4 5 6]\n",
            " [3 4 5 6 7]\n",
            " [4 5 6 7 8]]\n"
          ]
        }
      ]
    },
    {
      "cell_type": "markdown",
      "source": [
        "# Indexing"
      ],
      "metadata": {
        "id": "z0Fs7TmoTtHo"
      }
    },
    {
      "cell_type": "code",
      "source": [
        "import numpy as np"
      ],
      "metadata": {
        "id": "CGD9tt3RUupF"
      },
      "execution_count": 76,
      "outputs": []
    },
    {
      "cell_type": "code",
      "source": [
        "var29 = np.array([9,8,7,6])\n",
        "#                 1 2 3 4\n",
        "print(var29[1])"
      ],
      "metadata": {
        "colab": {
          "base_uri": "https://localhost:8080/"
        },
        "id": "L8nf6jTS6LPg",
        "outputId": "e26b41af-084c-44f3-befb-6ed177a9678f"
      },
      "execution_count": 77,
      "outputs": [
        {
          "output_type": "stream",
          "name": "stdout",
          "text": [
            "8\n"
          ]
        }
      ]
    },
    {
      "cell_type": "code",
      "source": [
        "var30 = np.array([9,8,7,6])\n",
        "#                -4 -3 -2 -1\n",
        "\n",
        "print(var30[-1])"
      ],
      "metadata": {
        "colab": {
          "base_uri": "https://localhost:8080/"
        },
        "id": "2OEIDwrzUdRv",
        "outputId": "f18580eb-741e-41ac-a345-d9890aebf9aa"
      },
      "execution_count": 78,
      "outputs": [
        {
          "output_type": "stream",
          "name": "stdout",
          "text": [
            "6\n"
          ]
        }
      ]
    },
    {
      "cell_type": "code",
      "source": [
        "var31 = np.array([[9,8,7,6] , [4,5,6,1]])\n",
        "\n",
        "print(var31)\n",
        "print(var31.ndim)\n",
        "print(var31[1][1])"
      ],
      "metadata": {
        "colab": {
          "base_uri": "https://localhost:8080/"
        },
        "id": "BiFj6MJ8U0H6",
        "outputId": "89ecdfae-69ce-4db0-fbb6-5a9589438cc0"
      },
      "execution_count": 79,
      "outputs": [
        {
          "output_type": "stream",
          "name": "stdout",
          "text": [
            "[[9 8 7 6]\n",
            " [4 5 6 1]]\n",
            "2\n",
            "5\n"
          ]
        }
      ]
    },
    {
      "cell_type": "code",
      "source": [
        "var32 = np.array([[[ 1,  2],[ 3,  4],[ 5,  6]],[[ 7,  8], [ 9, 10],[11, 12]]])\n",
        "print(var32.ndim)\n",
        "print(var32.shape)\n",
        "print(var32[1][2][1])\n",
        "print(var32[0,0,0])"
      ],
      "metadata": {
        "colab": {
          "base_uri": "https://localhost:8080/"
        },
        "id": "l-C1iGfkVQlK",
        "outputId": "edd56005-3acd-4c16-d57c-f0fdc50f2dc6"
      },
      "execution_count": 80,
      "outputs": [
        {
          "output_type": "stream",
          "name": "stdout",
          "text": [
            "3\n",
            "(2, 3, 2)\n",
            "12\n",
            "1\n"
          ]
        }
      ]
    },
    {
      "cell_type": "markdown",
      "source": [
        "Slicing"
      ],
      "metadata": {
        "id": "TFGi-mLS_7Fd"
      }
    },
    {
      "cell_type": "code",
      "source": [
        "var33 = np.array([9,8,7,6,1,2,3])\n",
        "print(var33[1:5])\n",
        "print(var33[0:])\n",
        "print(var33[1:])\n",
        "print(var33[1:6:2])\n",
        "print(var33[::2])"
      ],
      "metadata": {
        "colab": {
          "base_uri": "https://localhost:8080/"
        },
        "id": "DvooS4tOV2Dd",
        "outputId": "e86f4e3a-bcf6-4284-876f-a6acb5f7340a"
      },
      "execution_count": 81,
      "outputs": [
        {
          "output_type": "stream",
          "name": "stdout",
          "text": [
            "[8 7 6 1]\n",
            "[9 8 7 6 1 2 3]\n",
            "[8 7 6 1 2 3]\n",
            "[8 6 2]\n",
            "[9 7 1 3]\n"
          ]
        }
      ]
    },
    {
      "cell_type": "code",
      "source": [
        "var34 = np.array([[[ 1,  2],[ 3,  4],[ 5,  6]],[[ 7,  8], [ 9, 10],[11, 12]]])\n",
        "print(var34.shape)\n",
        "print(var34[1,1,0:2:2])\n",
        "# 1st comma 1st bracket\n",
        "# 2nd comma 2nd bracket\n",
        "# Treat now as 1D Vector"
      ],
      "metadata": {
        "colab": {
          "base_uri": "https://localhost:8080/"
        },
        "id": "Wf_MslmXAGfs",
        "outputId": "448bcb7c-ccb3-49ec-aa4b-05d19670ceb6"
      },
      "execution_count": 132,
      "outputs": [
        {
          "output_type": "stream",
          "name": "stdout",
          "text": [
            "(2, 3, 2)\n",
            "[9]\n"
          ]
        }
      ]
    },
    {
      "cell_type": "markdown",
      "source": [
        "Iterating Numpy Arrays"
      ],
      "metadata": {
        "id": "3ME40mOsCRJO"
      }
    },
    {
      "cell_type": "code",
      "source": [
        "var35 = np.array([1,2,3,4,5,6,7,8])\n",
        "for i in var35:\n",
        "  print(i)"
      ],
      "metadata": {
        "colab": {
          "base_uri": "https://localhost:8080/"
        },
        "id": "KJISHhesBA-t",
        "outputId": "1b0de124-0d23-43f5-b56e-fde577af7f19"
      },
      "execution_count": 83,
      "outputs": [
        {
          "output_type": "stream",
          "name": "stdout",
          "text": [
            "1\n",
            "2\n",
            "3\n",
            "4\n",
            "5\n",
            "6\n",
            "7\n",
            "8\n"
          ]
        }
      ]
    },
    {
      "cell_type": "code",
      "source": [
        "var36 = np.array([[2,3],[4,5]])\n",
        "for j in var36:\n",
        "  print(j)"
      ],
      "metadata": {
        "colab": {
          "base_uri": "https://localhost:8080/"
        },
        "id": "3__we_TzCk2-",
        "outputId": "7eeb91a0-1354-4025-9ebb-5d361f5e2aa0"
      },
      "execution_count": 84,
      "outputs": [
        {
          "output_type": "stream",
          "name": "stdout",
          "text": [
            "[2 3]\n",
            "[4 5]\n"
          ]
        }
      ]
    },
    {
      "cell_type": "code",
      "source": [
        "var37 = np.array([[2,3],[4,5]])\n",
        "for j in var37:\n",
        "  for i in j:\n",
        "    print(i)"
      ],
      "metadata": {
        "colab": {
          "base_uri": "https://localhost:8080/"
        },
        "id": "83C37kkDCxa8",
        "outputId": "f147430d-2252-454d-e805-12c3832b9215"
      },
      "execution_count": 85,
      "outputs": [
        {
          "output_type": "stream",
          "name": "stdout",
          "text": [
            "2\n",
            "3\n",
            "4\n",
            "5\n"
          ]
        }
      ]
    },
    {
      "cell_type": "code",
      "source": [
        "var37 = np.array([[2, 3], [4, 5]])\n",
        "\n",
        "for row_idx, row in enumerate(var37):\n",
        "    for col_idx, value in enumerate(row):\n",
        "        print(f\"a{row_idx}{col_idx}:\", value)\n"
      ],
      "metadata": {
        "colab": {
          "base_uri": "https://localhost:8080/"
        },
        "id": "m01y6GnMC5Xb",
        "outputId": "df61301b-cda7-4251-ae8a-c7689a586b86"
      },
      "execution_count": 86,
      "outputs": [
        {
          "output_type": "stream",
          "name": "stdout",
          "text": [
            "a00: 2\n",
            "a01: 3\n",
            "a10: 4\n",
            "a11: 5\n"
          ]
        }
      ]
    },
    {
      "cell_type": "code",
      "source": [
        "var38 = np.array([[[ 1,  2],[ 3,  4],[ 5,  6]],[[ 7,  8], [ 9, 10],[11, 12]]])\n",
        "for i in var38:\n",
        "  for j in i:\n",
        "    for k in j:\n",
        "      print(k)"
      ],
      "metadata": {
        "colab": {
          "base_uri": "https://localhost:8080/"
        },
        "id": "sP_BGsvrD6EK",
        "outputId": "49765c42-66fb-4ed4-92d3-dbf65fb00c52"
      },
      "execution_count": 87,
      "outputs": [
        {
          "output_type": "stream",
          "name": "stdout",
          "text": [
            "1\n",
            "2\n",
            "3\n",
            "4\n",
            "5\n",
            "6\n",
            "7\n",
            "8\n",
            "9\n",
            "10\n",
            "11\n",
            "12\n"
          ]
        }
      ]
    },
    {
      "cell_type": "code",
      "source": [
        "var39 = np.array([[[ 1,  2],[ 3,  4],[ 5,  6]],[[ 7,  8], [ 9, 10],[11, 12]]])\n",
        "for i in np.nditer(var39):\n",
        "  print(i)"
      ],
      "metadata": {
        "colab": {
          "base_uri": "https://localhost:8080/"
        },
        "id": "Y6Z3nrfuEV9g",
        "outputId": "b1ba017f-08de-4fce-d459-cb939781a27c"
      },
      "execution_count": 88,
      "outputs": [
        {
          "output_type": "stream",
          "name": "stdout",
          "text": [
            "1\n",
            "2\n",
            "3\n",
            "4\n",
            "5\n",
            "6\n",
            "7\n",
            "8\n",
            "9\n",
            "10\n",
            "11\n",
            "12\n"
          ]
        }
      ]
    },
    {
      "cell_type": "code",
      "source": [
        "var40 = np.array([[[ 1,  2],[ 3,  4],[ 5,  6]],[[ 7,  8], [ 9, 10],[11, 12]]])\n",
        "for i in np.nditer(var40,flags = ['buffered'] , op_dtypes=[\"S\"]):\n",
        "  print(i)"
      ],
      "metadata": {
        "colab": {
          "base_uri": "https://localhost:8080/"
        },
        "id": "OhWYW7HREwmA",
        "outputId": "0cd11573-fc6e-476c-dd72-804b3786ba84"
      },
      "execution_count": 89,
      "outputs": [
        {
          "output_type": "stream",
          "name": "stdout",
          "text": [
            "b'1'\n",
            "b'2'\n",
            "b'3'\n",
            "b'4'\n",
            "b'5'\n",
            "b'6'\n",
            "b'7'\n",
            "b'8'\n",
            "b'9'\n",
            "b'10'\n",
            "b'11'\n",
            "b'12'\n"
          ]
        }
      ]
    },
    {
      "cell_type": "code",
      "source": [
        "var41 = np.array([[[ 1,  2],[ 3,  4],[ 5,  6]],[[ 7,  8], [ 9, 10],[11, 12]]])\n",
        "for i in np.ndenumerate(var41):\n",
        "  print(i)"
      ],
      "metadata": {
        "colab": {
          "base_uri": "https://localhost:8080/"
        },
        "id": "7rJ1zMbAFEr0",
        "outputId": "33cd0ffc-c7ca-49f0-da4c-e7ebaf1c9b24"
      },
      "execution_count": 90,
      "outputs": [
        {
          "output_type": "stream",
          "name": "stdout",
          "text": [
            "((0, 0, 0), 1)\n",
            "((0, 0, 1), 2)\n",
            "((0, 1, 0), 3)\n",
            "((0, 1, 1), 4)\n",
            "((0, 2, 0), 5)\n",
            "((0, 2, 1), 6)\n",
            "((1, 0, 0), 7)\n",
            "((1, 0, 1), 8)\n",
            "((1, 1, 0), 9)\n",
            "((1, 1, 1), 10)\n",
            "((1, 2, 0), 11)\n",
            "((1, 2, 1), 12)\n"
          ]
        }
      ]
    },
    {
      "cell_type": "markdown",
      "source": [
        "Copy vs views"
      ],
      "metadata": {
        "id": "9LJOMaP3GY7W"
      }
    },
    {
      "cell_type": "code",
      "source": [
        "var42 = np.array([1,2,3,4])\n",
        "\n",
        "var43 = var42.copy()\n",
        "print(var42)\n",
        "print(var43)\n",
        "var43[0] = 12\n",
        "print(var42)"
      ],
      "metadata": {
        "colab": {
          "base_uri": "https://localhost:8080/"
        },
        "id": "MxnKikATFmYM",
        "outputId": "20ce1a2a-1a1a-45d4-8247-338c4c3c56f6"
      },
      "execution_count": 91,
      "outputs": [
        {
          "output_type": "stream",
          "name": "stdout",
          "text": [
            "[1 2 3 4]\n",
            "[1 2 3 4]\n",
            "[1 2 3 4]\n"
          ]
        }
      ]
    },
    {
      "cell_type": "code",
      "source": [
        "var44 = np.array([2,5,1,6,8,3,4])\n",
        "\n",
        "var45 = var44.view()\n",
        "\n",
        "print(var44)\n",
        "print(var45)\n",
        "\n",
        "var45[0] = 12\n",
        "print(var44)"
      ],
      "metadata": {
        "colab": {
          "base_uri": "https://localhost:8080/"
        },
        "id": "8zIAoz6MGisG",
        "outputId": "ca9e411f-8faa-4362-98a4-d422798b26d7"
      },
      "execution_count": 92,
      "outputs": [
        {
          "output_type": "stream",
          "name": "stdout",
          "text": [
            "[2 5 1 6 8 3 4]\n",
            "[2 5 1 6 8 3 4]\n",
            "[12  5  1  6  8  3  4]\n"
          ]
        }
      ]
    },
    {
      "cell_type": "markdown",
      "source": [
        "# Join and Split arrays"
      ],
      "metadata": {
        "id": "uE1xczATNImN"
      }
    },
    {
      "cell_type": "markdown",
      "source": [
        "Join"
      ],
      "metadata": {
        "id": "wNmzWNebUgll"
      }
    },
    {
      "cell_type": "code",
      "source": [
        "import numpy as np"
      ],
      "metadata": {
        "id": "OeDuj553NLRQ"
      },
      "execution_count": 93,
      "outputs": []
    },
    {
      "cell_type": "code",
      "source": [
        "var46 = np.array([1,2,3,4])\n",
        "var47 = np.array([5,6,7,8])\n",
        "\n",
        "var48 = np.concatenate((var46,var47))\n",
        "\n",
        "print(var48)"
      ],
      "metadata": {
        "colab": {
          "base_uri": "https://localhost:8080/"
        },
        "id": "OIBSH7dmNOT5",
        "outputId": "75a7ea5b-1331-4e99-eab1-ea8bd5b07aae"
      },
      "execution_count": 94,
      "outputs": [
        {
          "output_type": "stream",
          "name": "stdout",
          "text": [
            "[1 2 3 4 5 6 7 8]\n"
          ]
        }
      ]
    },
    {
      "cell_type": "code",
      "source": [
        "var49 = np.array([[1,2] , [3,4]])\n",
        "var50 = np.array([[5,6] , [7,8]])\n",
        "\n",
        "print(var49)\n",
        "print(var50)\n",
        "print()\n",
        "\n",
        "var51 = np.concatenate((var49,var50) , axis = 1 )\n",
        "print(var51)\n",
        "print()\n",
        "\n",
        "var52 = np.concatenate((var49,var50) , axis = 0 )\n",
        "print(var52)"
      ],
      "metadata": {
        "colab": {
          "base_uri": "https://localhost:8080/"
        },
        "id": "rGusRBF9NecA",
        "outputId": "fa87e314-bb20-40b7-978f-6bf6f34eb0dc"
      },
      "execution_count": 138,
      "outputs": [
        {
          "output_type": "stream",
          "name": "stdout",
          "text": [
            "[[1 2]\n",
            " [3 4]]\n",
            "[[5 6]\n",
            " [7 8]]\n",
            "\n",
            "[[1 2 5 6]\n",
            " [3 4 7 8]]\n",
            "\n",
            "[[1 2]\n",
            " [3 4]\n",
            " [5 6]\n",
            " [7 8]]\n"
          ]
        }
      ]
    },
    {
      "cell_type": "code",
      "source": [
        "var53 = np.array([1,2,3,4])\n",
        "var54 = np.array([5,6,7,8])\n",
        "\n",
        "var55 = np.stack((var53,var54), axis = 0)\n",
        "\n",
        "print(var55)\n",
        "\n",
        "print()\n",
        "\n",
        "var56 = np.stack((var53,var54), axis = 1)\n",
        "\n",
        "print(var56)"
      ],
      "metadata": {
        "colab": {
          "base_uri": "https://localhost:8080/"
        },
        "id": "ArqSKuK1N-zV",
        "outputId": "c16881d4-fab2-47b3-e8ff-2aade3d7648c"
      },
      "execution_count": 96,
      "outputs": [
        {
          "output_type": "stream",
          "name": "stdout",
          "text": [
            "[[1 2 3 4]\n",
            " [5 6 7 8]]\n",
            "\n",
            "[[1 5]\n",
            " [2 6]\n",
            " [3 7]\n",
            " [4 8]]\n"
          ]
        }
      ]
    },
    {
      "cell_type": "code",
      "source": [
        "var57 = np.array([1,2,3,4])\n",
        "var58 = np.array([5,6,7,8])\n",
        "\n",
        "var59 = np.hstack((var57,var58))\n",
        "print(var59)\n",
        "print()\n",
        "\n",
        "var60 = np.vstack((var57,var58))\n",
        "print(var60)\n",
        "print()\n",
        "\n",
        "var61 = np.dstack((var57,var58))\n",
        "print(var61)\n",
        "print()\n",
        "\n"
      ],
      "metadata": {
        "colab": {
          "base_uri": "https://localhost:8080/"
        },
        "id": "kOVCdfh2O8pf",
        "outputId": "bc70e12e-ec50-4a48-fb66-7e23ac75bce9"
      },
      "execution_count": 97,
      "outputs": [
        {
          "output_type": "stream",
          "name": "stdout",
          "text": [
            "[1 2 3 4 5 6 7 8]\n",
            "\n",
            "[[1 2 3 4]\n",
            " [5 6 7 8]]\n",
            "\n",
            "[[[1 5]\n",
            "  [2 6]\n",
            "  [3 7]\n",
            "  [4 8]]]\n",
            "\n"
          ]
        }
      ]
    },
    {
      "cell_type": "markdown",
      "source": [
        "Split"
      ],
      "metadata": {
        "id": "Iq7-8QN_UiNG"
      }
    },
    {
      "cell_type": "code",
      "source": [
        " var62 = np.array([1,2,3,4,5,6])\n",
        " print(var62)\n",
        "\n",
        " var63 = np.array_split(var62,3)\n",
        " print(var63)\n",
        " print(type(var63))\n",
        "\n",
        " print(var63[0])"
      ],
      "metadata": {
        "colab": {
          "base_uri": "https://localhost:8080/"
        },
        "id": "l_hxUjMkPpFC",
        "outputId": "78b76e22-5f7b-4a86-e47d-cfd190d410a5"
      },
      "execution_count": 98,
      "outputs": [
        {
          "output_type": "stream",
          "name": "stdout",
          "text": [
            "[1 2 3 4 5 6]\n",
            "[array([1, 2]), array([3, 4]), array([5, 6])]\n",
            "<class 'list'>\n",
            "[1 2]\n"
          ]
        }
      ]
    },
    {
      "cell_type": "code",
      "source": [
        "var64 = np.array([[1,2] , [3,4] , [5,6]])\n",
        "print(var64)\n",
        "\n",
        "var65 = np.array_split(var64 , 3)\n",
        "\n",
        "var66 = np.array_split(var64 , 3 , axis = 1)\n",
        "\n",
        "print(var65)\n",
        "print(var65[0])\n",
        "\n",
        "print(var66)"
      ],
      "metadata": {
        "colab": {
          "base_uri": "https://localhost:8080/"
        },
        "id": "fVEmSXwEU7Zc",
        "outputId": "53490953-424f-4ebc-ba99-1ee721440a56"
      },
      "execution_count": 99,
      "outputs": [
        {
          "output_type": "stream",
          "name": "stdout",
          "text": [
            "[[1 2]\n",
            " [3 4]\n",
            " [5 6]]\n",
            "[array([[1, 2]]), array([[3, 4]]), array([[5, 6]])]\n",
            "[[1 2]]\n",
            "[array([[1],\n",
            "       [3],\n",
            "       [5]]), array([[2],\n",
            "       [4],\n",
            "       [6]]), array([], shape=(3, 0), dtype=int64)]\n"
          ]
        }
      ]
    },
    {
      "cell_type": "markdown",
      "source": [
        "# Numpy arrays functions"
      ],
      "metadata": {
        "id": "1Hy6vbQLWbx-"
      }
    },
    {
      "cell_type": "code",
      "source": [
        "import numpy as np"
      ],
      "metadata": {
        "id": "S3xgcKMtWbWi"
      },
      "execution_count": 100,
      "outputs": []
    },
    {
      "cell_type": "code",
      "source": [
        "var67 = np.array([1,2,3,4,5,2,5,2,3,1])\n",
        "\n",
        "var68 = np.where(var67 == 2)\n",
        "print(var68)\n",
        "\n",
        "print()\n",
        "\n",
        "var69 = np.where((var67%2) == 0)\n",
        "print(var69)\n"
      ],
      "metadata": {
        "colab": {
          "base_uri": "https://localhost:8080/"
        },
        "id": "KezRf39_V_GC",
        "outputId": "68d1d963-d22f-4ad1-f4ed-329f207dd953"
      },
      "execution_count": 101,
      "outputs": [
        {
          "output_type": "stream",
          "name": "stdout",
          "text": [
            "(array([1, 5, 7]),)\n",
            "\n",
            "(array([1, 3, 5, 7]),)\n"
          ]
        }
      ]
    },
    {
      "cell_type": "markdown",
      "source": [
        "Search Sorted Arrays"
      ],
      "metadata": {
        "id": "reZGVRWvasf9"
      }
    },
    {
      "cell_type": "code",
      "source": [
        "var70 = np.array([1,2,3,4,6,7,8,9,10,11,12])\n",
        "\n",
        "var71 = np.searchsorted(var70 ,5)\n",
        "print(var71)"
      ],
      "metadata": {
        "colab": {
          "base_uri": "https://localhost:8080/"
        },
        "id": "xMkhnUfJZtVt",
        "outputId": "db3a4489-d5d3-4228-a5d2-180f6cd63b90"
      },
      "execution_count": 102,
      "outputs": [
        {
          "output_type": "stream",
          "name": "stdout",
          "text": [
            "4\n"
          ]
        }
      ]
    },
    {
      "cell_type": "code",
      "source": [
        "var72 = np.array([1,2,3,4,6,7,8,9,10,11,12])\n",
        "\n",
        "var73 = np.searchsorted(var72 ,5, side = \"right\")\n",
        "print(var73)"
      ],
      "metadata": {
        "colab": {
          "base_uri": "https://localhost:8080/"
        },
        "id": "RNkmPBLqbN4E",
        "outputId": "e20ce3bb-8330-4465-ca42-c4839ee934f2"
      },
      "execution_count": 103,
      "outputs": [
        {
          "output_type": "stream",
          "name": "stdout",
          "text": [
            "4\n"
          ]
        }
      ]
    },
    {
      "cell_type": "code",
      "source": [
        "var74 = np.array([1,2,3,4,6,7,8,9,10,11,12])\n",
        "\n",
        "var75 = np.searchsorted(var74 , [5,6,7] , side = \"right\")\n",
        "print(var75)"
      ],
      "metadata": {
        "colab": {
          "base_uri": "https://localhost:8080/"
        },
        "id": "Il7WM0aybqZ_",
        "outputId": "afd955a7-31aa-43e9-f816-b8fd8dc1a795"
      },
      "execution_count": 104,
      "outputs": [
        {
          "output_type": "stream",
          "name": "stdout",
          "text": [
            "[4 5 6]\n"
          ]
        }
      ]
    },
    {
      "cell_type": "code",
      "source": [
        "var76 = np.array([1,2,3,4,5,6,10,11,12])\n",
        "\n",
        "var77 = np.searchsorted(var76 , [7,8,9] , side = \"right\")\n",
        "print(var77)"
      ],
      "metadata": {
        "colab": {
          "base_uri": "https://localhost:8080/"
        },
        "id": "G75nnGwZb03Y",
        "outputId": "82246e49-47f1-4143-f233-7283cb08dfd3"
      },
      "execution_count": 105,
      "outputs": [
        {
          "output_type": "stream",
          "name": "stdout",
          "text": [
            "[6 6 6]\n"
          ]
        }
      ]
    },
    {
      "cell_type": "markdown",
      "source": [
        "Sort"
      ],
      "metadata": {
        "id": "gNrfDBG9eQw2"
      }
    },
    {
      "cell_type": "code",
      "source": [
        "var78 = np.random.randint(1,10,8)\n",
        "print(var78)\n",
        "print()\n",
        "var79 = np.sort(var78)\n",
        "print(var79)"
      ],
      "metadata": {
        "colab": {
          "base_uri": "https://localhost:8080/"
        },
        "id": "D1a7PhLXcGl2",
        "outputId": "e1436ee9-4b33-4f05-849c-e33c2cd02e80"
      },
      "execution_count": 106,
      "outputs": [
        {
          "output_type": "stream",
          "name": "stdout",
          "text": [
            "[1 6 4 1 2 4 1 7]\n",
            "\n",
            "[1 1 1 2 4 4 6 7]\n"
          ]
        }
      ]
    },
    {
      "cell_type": "code",
      "source": [
        "var80 = np.array([\"a\" , \"s\" , \"d\" , \"f\" , \"g\" , \"o\" , \"q\" , \"Q\" , \"A\"])\n",
        "print(np.sort(var80))"
      ],
      "metadata": {
        "colab": {
          "base_uri": "https://localhost:8080/"
        },
        "id": "04gnuoKtchuz",
        "outputId": "aa18ea9f-f55a-4952-d36f-fbfbb9665e75"
      },
      "execution_count": 107,
      "outputs": [
        {
          "output_type": "stream",
          "name": "stdout",
          "text": [
            "['A' 'Q' 'a' 'd' 'f' 'g' 'o' 'q' 's']\n"
          ]
        }
      ]
    },
    {
      "cell_type": "code",
      "source": [
        "var81 = np.array([[4,2,3] , [3,7,2] , [12,5,8]])\n",
        "\n",
        "print(np.sort(var81))"
      ],
      "metadata": {
        "colab": {
          "base_uri": "https://localhost:8080/"
        },
        "id": "qjXA9OnidERz",
        "outputId": "2f2e68cf-d818-4d70-e295-1d2926662c09"
      },
      "execution_count": 108,
      "outputs": [
        {
          "output_type": "stream",
          "name": "stdout",
          "text": [
            "[[ 2  3  4]\n",
            " [ 2  3  7]\n",
            " [ 5  8 12]]\n"
          ]
        }
      ]
    },
    {
      "cell_type": "markdown",
      "source": [
        "Filter"
      ],
      "metadata": {
        "id": "w0p3ivJxeOxw"
      }
    },
    {
      "cell_type": "code",
      "source": [
        "var82 = np.array([1,2,3,4,5])\n",
        "\n",
        "f = [True,False,True,False,True]\n",
        "\n",
        "var83 = var82[f]\n",
        "\n",
        "print(var83)\n",
        "print(type(var83))"
      ],
      "metadata": {
        "colab": {
          "base_uri": "https://localhost:8080/"
        },
        "id": "NgqnFbV4dvz2",
        "outputId": "59a42bd9-f888-4599-8bb9-770c03a699c8"
      },
      "execution_count": 109,
      "outputs": [
        {
          "output_type": "stream",
          "name": "stdout",
          "text": [
            "[1 3 5]\n",
            "<class 'numpy.ndarray'>\n"
          ]
        }
      ]
    },
    {
      "cell_type": "markdown",
      "source": [
        "shuffle"
      ],
      "metadata": {
        "id": "Ljx1KniDiD6F"
      }
    },
    {
      "cell_type": "code",
      "source": [
        "var84 = np.array([1,2,3,4,5])\n",
        "\n",
        "np.random.shuffle(var84)\n",
        "\n",
        "print(var84)"
      ],
      "metadata": {
        "colab": {
          "base_uri": "https://localhost:8080/"
        },
        "id": "6w_DadlsendS",
        "outputId": "6c577f46-a579-4dfa-adfa-b1abba229f9d"
      },
      "execution_count": 110,
      "outputs": [
        {
          "output_type": "stream",
          "name": "stdout",
          "text": [
            "[3 5 1 2 4]\n"
          ]
        }
      ]
    },
    {
      "cell_type": "markdown",
      "source": [
        "Unique"
      ],
      "metadata": {
        "id": "124jlZzTicEz"
      }
    },
    {
      "cell_type": "code",
      "source": [
        "var85 = np.array([1,2,3,4,2,3,1,5,1,2,3,5,1,2])\n",
        "\n",
        "var86 = np.unique(var85 , return_index = True)\n",
        "\n",
        "print(var86)"
      ],
      "metadata": {
        "colab": {
          "base_uri": "https://localhost:8080/"
        },
        "id": "4Itzsv13iODA",
        "outputId": "3896d005-6cf3-4f94-e012-e30b8aec493f"
      },
      "execution_count": 139,
      "outputs": [
        {
          "output_type": "stream",
          "name": "stdout",
          "text": [
            "(array([1, 2, 3, 4, 5]), array([0, 1, 2, 3, 7]))\n"
          ]
        }
      ]
    },
    {
      "cell_type": "markdown",
      "source": [
        "Resize"
      ],
      "metadata": {
        "id": "POQ5Apl_j8td"
      }
    },
    {
      "cell_type": "code",
      "source": [
        "var87 = np.array([1,2,3,4,5,6])\n",
        "\n",
        "var88 = np.resize(var87 , (2,3))\n",
        "\n",
        "print(var88)"
      ],
      "metadata": {
        "colab": {
          "base_uri": "https://localhost:8080/"
        },
        "id": "cMshc_TxiuQa",
        "outputId": "79d98f02-0ecb-4c5f-b965-0e2d156e50e6"
      },
      "execution_count": 112,
      "outputs": [
        {
          "output_type": "stream",
          "name": "stdout",
          "text": [
            "[[1 2 3]\n",
            " [4 5 6]]\n"
          ]
        }
      ]
    },
    {
      "cell_type": "code",
      "source": [
        "var89 = np.array([1,2,3,4,5])\n",
        "\n",
        "var90 = np.resize(var89 , (2,3))\n",
        "\n",
        "print(var90)\n",
        "\n",
        "# resize doesn't through error when enough elements are not present or either excess elements are present."
      ],
      "metadata": {
        "colab": {
          "base_uri": "https://localhost:8080/"
        },
        "id": "nAxNNbW_kKpi",
        "outputId": "f17ea4e4-9e32-4c48-a42d-2c0c4b089de4"
      },
      "execution_count": 113,
      "outputs": [
        {
          "output_type": "stream",
          "name": "stdout",
          "text": [
            "[[1 2 3]\n",
            " [4 5 1]]\n"
          ]
        }
      ]
    },
    {
      "cell_type": "markdown",
      "source": [
        "Flatten"
      ],
      "metadata": {
        "id": "pN4ktwcbmgKN"
      }
    },
    {
      "cell_type": "code",
      "source": [
        "var91 = np.array([[1 ,2 ,3] , [4 ,5, 6] ])\n",
        "\n",
        "print(var91.flatten(order = \"C\"))\n",
        "print(var91.flatten(order = \"F\"))\n",
        "print(var91.flatten(order = \"A\"))\n",
        "print(var91.flatten(order = \"K\"))"
      ],
      "metadata": {
        "colab": {
          "base_uri": "https://localhost:8080/"
        },
        "id": "iARKifkSmfnJ",
        "outputId": "ee79a58a-c0a1-43c3-d8d4-49fa69e7b1f7"
      },
      "execution_count": 114,
      "outputs": [
        {
          "output_type": "stream",
          "name": "stdout",
          "text": [
            "[1 2 3 4 5 6]\n",
            "[1 4 2 5 3 6]\n",
            "[1 2 3 4 5 6]\n",
            "[1 2 3 4 5 6]\n"
          ]
        }
      ]
    },
    {
      "cell_type": "code",
      "source": [
        "var92 = np.array([[1 ,2 ,3] , [4 ,5, 6] ])\n",
        "print(np.ravel(var92 ,  order = \"C\"))\n",
        "print(np.ravel(var92 ,  order = \"F\"))\n",
        "print(np.ravel(var92 ,  order = \"A\"))\n",
        "print(np.ravel(var92 ,  order = \"K\"))"
      ],
      "metadata": {
        "colab": {
          "base_uri": "https://localhost:8080/"
        },
        "id": "mnnBJHGXkguY",
        "outputId": "355fb379-50da-499c-a2e6-8deef649c85b"
      },
      "execution_count": 115,
      "outputs": [
        {
          "output_type": "stream",
          "name": "stdout",
          "text": [
            "[1 2 3 4 5 6]\n",
            "[1 4 2 5 3 6]\n",
            "[1 2 3 4 5 6]\n",
            "[1 2 3 4 5 6]\n"
          ]
        }
      ]
    },
    {
      "cell_type": "markdown",
      "source": [
        "# Insert and Delete"
      ],
      "metadata": {
        "id": "s6EY2LR8v8hW"
      }
    },
    {
      "cell_type": "code",
      "source": [
        "import numpy as np"
      ],
      "metadata": {
        "id": "LUougjO0nXNX"
      },
      "execution_count": 116,
      "outputs": []
    },
    {
      "cell_type": "code",
      "source": [
        "var93 = np.array([1,2,3,4])\n",
        "\n",
        "print(var93)\n",
        "\n",
        "var94 = np.insert(var93,4,5)\n",
        "print(var94)\n",
        "\n",
        "var95 = np.insert(var94,(2,5),(6,7))\n",
        "print(var95)"
      ],
      "metadata": {
        "colab": {
          "base_uri": "https://localhost:8080/"
        },
        "id": "bCKE5JOov5ux",
        "outputId": "bf3a448d-4808-470e-c724-ae966c7dedf1"
      },
      "execution_count": 117,
      "outputs": [
        {
          "output_type": "stream",
          "name": "stdout",
          "text": [
            "[1 2 3 4]\n",
            "[1 2 3 4 5]\n",
            "[1 2 6 3 4 5 7]\n"
          ]
        }
      ]
    },
    {
      "cell_type": "code",
      "source": [
        "var96 = np.array([1,2,3,4,5])\n",
        "\n",
        "var97 = np.insert(var96,(2,5),6.5) # float to int(if all array elements are int)\n",
        "print(var97)"
      ],
      "metadata": {
        "colab": {
          "base_uri": "https://localhost:8080/"
        },
        "id": "_Xl2KvWPwhXk",
        "outputId": "2d7f777f-c02b-4e7a-e5a3-8cec83f6c778"
      },
      "execution_count": 118,
      "outputs": [
        {
          "output_type": "stream",
          "name": "stdout",
          "text": [
            "[1 2 6 3 4 5 6]\n"
          ]
        }
      ]
    },
    {
      "cell_type": "code",
      "source": [
        "var98 = np.array( [ [1,2] , [3,4] ])\n",
        "var99 = np.insert(var98,2,(6,7) , axis = 0) # if value = 6 last all row 6 6\n",
        "print(var99)\n",
        "\n",
        "var100 = np.insert(var98,2,(6,7) , axis = 1) # if value = 6 last all coloumn 1 2 6, 3 4 7\n",
        "print(var100)"
      ],
      "metadata": {
        "colab": {
          "base_uri": "https://localhost:8080/"
        },
        "id": "dgczA2vtxEQ1",
        "outputId": "28a503f3-49c4-49e2-a7cb-74a92abce3b7"
      },
      "execution_count": 119,
      "outputs": [
        {
          "output_type": "stream",
          "name": "stdout",
          "text": [
            "[[1 2]\n",
            " [3 4]\n",
            " [6 7]]\n",
            "[[1 2 6]\n",
            " [3 4 7]]\n"
          ]
        }
      ]
    },
    {
      "cell_type": "code",
      "source": [
        "var101 = np.array([1,2,3,4,5])\n",
        "\n",
        "var102 = np.append(var101,6.5)\n",
        "print(var102)"
      ],
      "metadata": {
        "colab": {
          "base_uri": "https://localhost:8080/"
        },
        "id": "Mu2kwuJLxbs5",
        "outputId": "2226cc2d-88ca-4250-9dc6-c97901f54fa9"
      },
      "execution_count": 120,
      "outputs": [
        {
          "output_type": "stream",
          "name": "stdout",
          "text": [
            "[1.  2.  3.  4.  5.  6.5]\n"
          ]
        }
      ]
    },
    {
      "cell_type": "code",
      "source": [
        "var103 = np.array( [ [1,2] , [3,4] ])\n",
        "var104 = np.append(var103,[[6,7]] , axis = 0)\n",
        "print(var104)"
      ],
      "metadata": {
        "colab": {
          "base_uri": "https://localhost:8080/"
        },
        "id": "VlUCJJvSyS9-",
        "outputId": "7a7bc9a1-b7db-428f-b42d-7dc1fdf0384b"
      },
      "execution_count": 121,
      "outputs": [
        {
          "output_type": "stream",
          "name": "stdout",
          "text": [
            "[[1 2]\n",
            " [3 4]\n",
            " [6 7]]\n"
          ]
        }
      ]
    },
    {
      "cell_type": "markdown",
      "source": [
        "delete"
      ],
      "metadata": {
        "id": "qG4yt3B6yxAA"
      }
    },
    {
      "cell_type": "code",
      "source": [
        "var105 = np.array([1,2,3,4,5])\n",
        "\n",
        "var106 = np.delete(var105,2)\n",
        "print(var106)"
      ],
      "metadata": {
        "colab": {
          "base_uri": "https://localhost:8080/"
        },
        "id": "Rh4l-mTfyfr8",
        "outputId": "81741583-1a51-4755-cefb-48bc723edad8"
      },
      "execution_count": 140,
      "outputs": [
        {
          "output_type": "stream",
          "name": "stdout",
          "text": [
            "[1 2 4 5]\n"
          ]
        }
      ]
    },
    {
      "cell_type": "markdown",
      "source": [
        "# Matrix"
      ],
      "metadata": {
        "id": "_JJV5PPy6JnI"
      }
    },
    {
      "cell_type": "code",
      "source": [
        "import numpy as np\n"
      ],
      "metadata": {
        "id": "6d6eQ_bIy62U"
      },
      "execution_count": 123,
      "outputs": []
    },
    {
      "cell_type": "code",
      "source": [
        "v1 = np.matrix([[1,2,3] , [1,2,3]])\n",
        "print(v1)\n",
        "print(type(v1))"
      ],
      "metadata": {
        "colab": {
          "base_uri": "https://localhost:8080/"
        },
        "id": "B7ycgHAj6V75",
        "outputId": "8a76f7ec-5bd6-497a-e9bd-14b033045f8b"
      },
      "execution_count": 124,
      "outputs": [
        {
          "output_type": "stream",
          "name": "stdout",
          "text": [
            "[[1 2 3]\n",
            " [1 2 3]]\n",
            "<class 'numpy.matrix'>\n"
          ]
        }
      ]
    },
    {
      "cell_type": "code",
      "source": [
        "v2 = np.array([[1,2,3] , [1,2,3]])\n",
        "print(v2)\n",
        "print(type(v2))"
      ],
      "metadata": {
        "colab": {
          "base_uri": "https://localhost:8080/"
        },
        "id": "GvHINLLK6fWs",
        "outputId": "7437a142-68be-4def-cc64-47f663e77ddf"
      },
      "execution_count": 125,
      "outputs": [
        {
          "output_type": "stream",
          "name": "stdout",
          "text": [
            "[[1 2 3]\n",
            " [1 2 3]]\n",
            "<class 'numpy.ndarray'>\n"
          ]
        }
      ]
    },
    {
      "cell_type": "code",
      "source": [
        "v3 = np.matrix([[1,2],[3,4]])\n",
        "v4 = np.matrix([[1,1],[2,2]])\n",
        "print(v3 + v4)\n",
        "print()\n",
        "print(v3 - v4)\n",
        "print()\n",
        "print(v3 * v4)\n",
        "print()\n",
        "print(v3.dot(v4))"
      ],
      "metadata": {
        "colab": {
          "base_uri": "https://localhost:8080/"
        },
        "id": "oEemcDs_6hdb",
        "outputId": "85c13cc5-1d78-4d9e-9e5f-7010dca71ec2"
      },
      "execution_count": 126,
      "outputs": [
        {
          "output_type": "stream",
          "name": "stdout",
          "text": [
            "[[2 3]\n",
            " [5 6]]\n",
            "\n",
            "[[0 1]\n",
            " [1 2]]\n",
            "\n",
            "[[ 5  5]\n",
            " [11 11]]\n",
            "\n",
            "[[ 5  5]\n",
            " [11 11]]\n"
          ]
        }
      ]
    },
    {
      "cell_type": "code",
      "source": [
        "v3 = np.matrix([[1,2,3],[3,4,5]])\n",
        "v4 = np.matrix([[1,1,2],[2,2,1]])\n",
        "print(v3 + v4)\n",
        "print()\n",
        "print(v3 - v4)\n",
        "print()\n",
        "#print(v3 * v4) # shapes (2,3) and (2,3) not aligned: 3 (dim 1) != 2 (dim 0)\n",
        "\n",
        "print()"
      ],
      "metadata": {
        "colab": {
          "base_uri": "https://localhost:8080/"
        },
        "id": "Arlh9kWt7KI-",
        "outputId": "27cdf25a-ee04-452e-d86e-81e70a7754a3"
      },
      "execution_count": 127,
      "outputs": [
        {
          "output_type": "stream",
          "name": "stdout",
          "text": [
            "[[2 3 5]\n",
            " [5 6 6]]\n",
            "\n",
            "[[0 1 1]\n",
            " [1 2 4]]\n",
            "\n",
            "\n"
          ]
        }
      ]
    },
    {
      "cell_type": "code",
      "source": [
        "v13 = np.matrix([[1,2,3],[3,4,5]])\n",
        "print(v13.shape)\n",
        "v14 = np.matrix([[1,1],[2,2] ,[2,1]])\n",
        "\n",
        "print(v13*v14)\n",
        "print(v13.dot(v14))"
      ],
      "metadata": {
        "colab": {
          "base_uri": "https://localhost:8080/"
        },
        "id": "zad0-ggyHXzQ",
        "outputId": "2ae3aef9-145e-4358-f411-3e79a56345cb"
      },
      "execution_count": 145,
      "outputs": [
        {
          "output_type": "stream",
          "name": "stdout",
          "text": [
            "(2, 3)\n",
            "[[11  8]\n",
            " [21 16]]\n",
            "[[11  8]\n",
            " [21 16]]\n"
          ]
        }
      ]
    },
    {
      "cell_type": "code",
      "source": [
        "v5 = np.matrix([[1,2,3] , [2,6,4] , [4,5,7]])\n",
        "print(v5)\n",
        "print()\n",
        "print(np.transpose(v5))\n",
        "print()\n",
        "print(v5.T)\n",
        "print()\n",
        "print(np.swapaxes(v5,0,1))\n",
        "print()\n",
        "print(np.linalg.inv(v5))\n",
        "print()\n",
        "print(np.linalg.matrix_power(v5,2))\n",
        "print()\n",
        "print(np.linalg.matrix_power(v5,1))\n",
        "print()\n",
        "print(np.linalg.matrix_power(v5,0))\n",
        "print()\n",
        "print(np.linalg.matrix_power(v5,-1))\n",
        "print()\n",
        "print(np.linalg.matrix_power(v5,-2))\n",
        "print()\n",
        "print(np.linalg.det(v5))"
      ],
      "metadata": {
        "colab": {
          "base_uri": "https://localhost:8080/"
        },
        "id": "vL5DQJZu8R2S",
        "outputId": "210e0919-d7a6-4e7a-ca84-9bb668f1dc1b"
      },
      "execution_count": 128,
      "outputs": [
        {
          "output_type": "stream",
          "name": "stdout",
          "text": [
            "[[1 2 3]\n",
            " [2 6 4]\n",
            " [4 5 7]]\n",
            "\n",
            "[[1 2 4]\n",
            " [2 6 5]\n",
            " [3 4 7]]\n",
            "\n",
            "[[1 2 4]\n",
            " [2 6 5]\n",
            " [3 4 7]]\n",
            "\n",
            "[[1 2 4]\n",
            " [2 6 5]\n",
            " [3 4 7]]\n",
            "\n",
            "[[-1.375  -0.0625  0.625 ]\n",
            " [-0.125   0.3125 -0.125 ]\n",
            " [ 0.875  -0.1875 -0.125 ]]\n",
            "\n",
            "[[17 29 32]\n",
            " [30 60 58]\n",
            " [42 73 81]]\n",
            "\n",
            "[[1 2 3]\n",
            " [2 6 4]\n",
            " [4 5 7]]\n",
            "\n",
            "[[1 0 0]\n",
            " [0 1 0]\n",
            " [0 0 1]]\n",
            "\n",
            "[[-1.375  -0.0625  0.625 ]\n",
            " [-0.125   0.3125 -0.125 ]\n",
            " [ 0.875  -0.1875 -0.125 ]]\n",
            "\n",
            "[[ 2.4453125  -0.05078125 -0.9296875 ]\n",
            " [ 0.0234375   0.12890625 -0.1015625 ]\n",
            " [-1.2890625  -0.08984375  0.5859375 ]]\n",
            "\n",
            "-16.000000000000007\n"
          ]
        }
      ]
    }
  ]
}